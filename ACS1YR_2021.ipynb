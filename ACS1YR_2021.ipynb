{
 "cells": [
  {
   "cell_type": "code",
   "execution_count": 1,
   "id": "74d1aade",
   "metadata": {},
   "outputs": [],
   "source": [
    "### 2021 Census Data (ACS 1-year)for Selected Variables - Baltimore City\n",
    "\n"
   ]
  },
  {
   "cell_type": "code",
   "execution_count": 1,
   "id": "4993eb94",
   "metadata": {},
   "outputs": [],
   "source": [
    "# Dependencies\n",
    "import numpy as np\n",
    "import pandas as pd\n",
    "#import matplotlib.pyplot as plt\n",
    "import requests\n",
    "import censusdata \n",
    "#import censusgeocode as cg\n",
    "\n",
    "#from scipy.stats import linregress\n"
   ]
  },
  {
   "cell_type": "code",
   "execution_count": 3,
   "id": "1d23bb8a",
   "metadata": {},
   "outputs": [],
   "source": [
    "# Plotly is a library for creating interactive, high-quality visualizations. \n",
    "\n",
    "# Seaborn and matplotlib are better for static images\n",
    "\n",
    "# See https://medium.com/codex/say-goodbye-to-matplotlib-and-seaborn-for-your-python-plots-5cade2f7fba2\n",
    "#import plotly.graph_objects as go\n",
    "#import plotly.express as px"
   ]
  },
  {
   "cell_type": "code",
   "execution_count": 4,
   "id": "93a6a535",
   "metadata": {},
   "outputs": [],
   "source": [
    "#import os"
   ]
  },
  {
   "cell_type": "code",
   "execution_count": 5,
   "id": "adfdbb8f",
   "metadata": {},
   "outputs": [],
   "source": [
    "#os.getcwd()"
   ]
  },
  {
   "cell_type": "code",
   "execution_count": 6,
   "id": "ac68be79",
   "metadata": {},
   "outputs": [],
   "source": [
    "pd.set_option('display.max_rows', 200)"
   ]
  },
  {
   "cell_type": "code",
   "execution_count": 7,
   "id": "e7fc1bcf",
   "metadata": {},
   "outputs": [],
   "source": [
    "pd.set_option('max_colwidth', 250)"
   ]
  },
  {
   "cell_type": "code",
   "execution_count": 3,
   "id": "d8f914b2",
   "metadata": {},
   "outputs": [
    {
     "ename": "ValueError",
     "evalue": "Unexpected response (URL: https://api.census.gov/data/2016/acs/acs1?get=NAME,B01001_001E,B02001_002E,B02001_003E,B02001_005E,B02001_008E,B03001_003E,B05002_013E,B08301_001E,B08301_010E,B15003_001E,B15003_016E,B15003_017E,B15003_021E,B15003_022E&for=tract:*&in=state:24+county:510): error: unknown/unsupported geography heirarchy ",
     "output_type": "error",
     "traceback": [
      "\u001b[1;31m---------------------------------------------------------------------------\u001b[0m",
      "\u001b[1;31mJSONDecodeError\u001b[0m                           Traceback (most recent call last)",
      "\u001b[1;32m~\\anaconda3\\envs\\PythonData\\lib\\site-packages\\requests\\models.py\u001b[0m in \u001b[0;36mjson\u001b[1;34m(self, **kwargs)\u001b[0m\n\u001b[0;32m    970\u001b[0m         \u001b[1;32mtry\u001b[0m\u001b[1;33m:\u001b[0m\u001b[1;33m\u001b[0m\u001b[1;33m\u001b[0m\u001b[0m\n\u001b[1;32m--> 971\u001b[1;33m             \u001b[1;32mreturn\u001b[0m \u001b[0mcomplexjson\u001b[0m\u001b[1;33m.\u001b[0m\u001b[0mloads\u001b[0m\u001b[1;33m(\u001b[0m\u001b[0mself\u001b[0m\u001b[1;33m.\u001b[0m\u001b[0mtext\u001b[0m\u001b[1;33m,\u001b[0m \u001b[1;33m**\u001b[0m\u001b[0mkwargs\u001b[0m\u001b[1;33m)\u001b[0m\u001b[1;33m\u001b[0m\u001b[1;33m\u001b[0m\u001b[0m\n\u001b[0m\u001b[0;32m    972\u001b[0m         \u001b[1;32mexcept\u001b[0m \u001b[0mJSONDecodeError\u001b[0m \u001b[1;32mas\u001b[0m \u001b[0me\u001b[0m\u001b[1;33m:\u001b[0m\u001b[1;33m\u001b[0m\u001b[1;33m\u001b[0m\u001b[0m\n",
      "\u001b[1;32m~\\anaconda3\\envs\\PythonData\\lib\\json\\__init__.py\u001b[0m in \u001b[0;36mloads\u001b[1;34m(s, encoding, cls, object_hook, parse_float, parse_int, parse_constant, object_pairs_hook, **kw)\u001b[0m\n\u001b[0;32m    347\u001b[0m             parse_constant is None and object_pairs_hook is None and not kw):\n\u001b[1;32m--> 348\u001b[1;33m         \u001b[1;32mreturn\u001b[0m \u001b[0m_default_decoder\u001b[0m\u001b[1;33m.\u001b[0m\u001b[0mdecode\u001b[0m\u001b[1;33m(\u001b[0m\u001b[0ms\u001b[0m\u001b[1;33m)\u001b[0m\u001b[1;33m\u001b[0m\u001b[1;33m\u001b[0m\u001b[0m\n\u001b[0m\u001b[0;32m    349\u001b[0m     \u001b[1;32mif\u001b[0m \u001b[0mcls\u001b[0m \u001b[1;32mis\u001b[0m \u001b[1;32mNone\u001b[0m\u001b[1;33m:\u001b[0m\u001b[1;33m\u001b[0m\u001b[1;33m\u001b[0m\u001b[0m\n",
      "\u001b[1;32m~\\anaconda3\\envs\\PythonData\\lib\\json\\decoder.py\u001b[0m in \u001b[0;36mdecode\u001b[1;34m(self, s, _w)\u001b[0m\n\u001b[0;32m    336\u001b[0m         \"\"\"\n\u001b[1;32m--> 337\u001b[1;33m         \u001b[0mobj\u001b[0m\u001b[1;33m,\u001b[0m \u001b[0mend\u001b[0m \u001b[1;33m=\u001b[0m \u001b[0mself\u001b[0m\u001b[1;33m.\u001b[0m\u001b[0mraw_decode\u001b[0m\u001b[1;33m(\u001b[0m\u001b[0ms\u001b[0m\u001b[1;33m,\u001b[0m \u001b[0midx\u001b[0m\u001b[1;33m=\u001b[0m\u001b[0m_w\u001b[0m\u001b[1;33m(\u001b[0m\u001b[0ms\u001b[0m\u001b[1;33m,\u001b[0m \u001b[1;36m0\u001b[0m\u001b[1;33m)\u001b[0m\u001b[1;33m.\u001b[0m\u001b[0mend\u001b[0m\u001b[1;33m(\u001b[0m\u001b[1;33m)\u001b[0m\u001b[1;33m)\u001b[0m\u001b[1;33m\u001b[0m\u001b[1;33m\u001b[0m\u001b[0m\n\u001b[0m\u001b[0;32m    338\u001b[0m         \u001b[0mend\u001b[0m \u001b[1;33m=\u001b[0m \u001b[0m_w\u001b[0m\u001b[1;33m(\u001b[0m\u001b[0ms\u001b[0m\u001b[1;33m,\u001b[0m \u001b[0mend\u001b[0m\u001b[1;33m)\u001b[0m\u001b[1;33m.\u001b[0m\u001b[0mend\u001b[0m\u001b[1;33m(\u001b[0m\u001b[1;33m)\u001b[0m\u001b[1;33m\u001b[0m\u001b[1;33m\u001b[0m\u001b[0m\n",
      "\u001b[1;32m~\\anaconda3\\envs\\PythonData\\lib\\json\\decoder.py\u001b[0m in \u001b[0;36mraw_decode\u001b[1;34m(self, s, idx)\u001b[0m\n\u001b[0;32m    354\u001b[0m         \u001b[1;32mexcept\u001b[0m \u001b[0mStopIteration\u001b[0m \u001b[1;32mas\u001b[0m \u001b[0merr\u001b[0m\u001b[1;33m:\u001b[0m\u001b[1;33m\u001b[0m\u001b[1;33m\u001b[0m\u001b[0m\n\u001b[1;32m--> 355\u001b[1;33m             \u001b[1;32mraise\u001b[0m \u001b[0mJSONDecodeError\u001b[0m\u001b[1;33m(\u001b[0m\u001b[1;34m\"Expecting value\"\u001b[0m\u001b[1;33m,\u001b[0m \u001b[0ms\u001b[0m\u001b[1;33m,\u001b[0m \u001b[0merr\u001b[0m\u001b[1;33m.\u001b[0m\u001b[0mvalue\u001b[0m\u001b[1;33m)\u001b[0m \u001b[1;32mfrom\u001b[0m \u001b[1;32mNone\u001b[0m\u001b[1;33m\u001b[0m\u001b[1;33m\u001b[0m\u001b[0m\n\u001b[0m\u001b[0;32m    356\u001b[0m         \u001b[1;32mreturn\u001b[0m \u001b[0mobj\u001b[0m\u001b[1;33m,\u001b[0m \u001b[0mend\u001b[0m\u001b[1;33m\u001b[0m\u001b[1;33m\u001b[0m\u001b[0m\n",
      "\u001b[1;31mJSONDecodeError\u001b[0m: Expecting value: line 1 column 1 (char 0)",
      "\nDuring handling of the above exception, another exception occurred:\n",
      "\u001b[1;31mJSONDecodeError\u001b[0m                           Traceback (most recent call last)",
      "\u001b[1;32m~\\anaconda3\\envs\\PythonData\\lib\\site-packages\\censusdata\\download.py\u001b[0m in \u001b[0;36m_download\u001b[1;34m(src, year, params, baseurl, endpt)\u001b[0m\n\u001b[0;32m     35\u001b[0m         \u001b[1;32mtry\u001b[0m\u001b[1;33m:\u001b[0m\u001b[1;33m\u001b[0m\u001b[1;33m\u001b[0m\u001b[0m\n\u001b[1;32m---> 36\u001b[1;33m                 \u001b[0mdata\u001b[0m \u001b[1;33m=\u001b[0m \u001b[0mr\u001b[0m\u001b[1;33m.\u001b[0m\u001b[0mjson\u001b[0m\u001b[1;33m(\u001b[0m\u001b[1;33m)\u001b[0m\u001b[1;33m\u001b[0m\u001b[1;33m\u001b[0m\u001b[0m\n\u001b[0m\u001b[0;32m     37\u001b[0m         \u001b[1;32mexcept\u001b[0m\u001b[1;33m:\u001b[0m\u001b[1;33m\u001b[0m\u001b[1;33m\u001b[0m\u001b[0m\n",
      "\u001b[1;32m~\\anaconda3\\envs\\PythonData\\lib\\site-packages\\requests\\models.py\u001b[0m in \u001b[0;36mjson\u001b[1;34m(self, **kwargs)\u001b[0m\n\u001b[0;32m    974\u001b[0m             \u001b[1;31m# This aliases json.JSONDecodeError and simplejson.JSONDecodeError\u001b[0m\u001b[1;33m\u001b[0m\u001b[1;33m\u001b[0m\u001b[1;33m\u001b[0m\u001b[0m\n\u001b[1;32m--> 975\u001b[1;33m             \u001b[1;32mraise\u001b[0m \u001b[0mRequestsJSONDecodeError\u001b[0m\u001b[1;33m(\u001b[0m\u001b[0me\u001b[0m\u001b[1;33m.\u001b[0m\u001b[0mmsg\u001b[0m\u001b[1;33m,\u001b[0m \u001b[0me\u001b[0m\u001b[1;33m.\u001b[0m\u001b[0mdoc\u001b[0m\u001b[1;33m,\u001b[0m \u001b[0me\u001b[0m\u001b[1;33m.\u001b[0m\u001b[0mpos\u001b[0m\u001b[1;33m)\u001b[0m\u001b[1;33m\u001b[0m\u001b[1;33m\u001b[0m\u001b[0m\n\u001b[0m\u001b[0;32m    976\u001b[0m \u001b[1;33m\u001b[0m\u001b[0m\n",
      "\u001b[1;31mJSONDecodeError\u001b[0m: Expecting value: line 1 column 1 (char 0)",
      "\nDuring handling of the above exception, another exception occurred:\n",
      "\u001b[1;31mValueError\u001b[0m                                Traceback (most recent call last)",
      "\u001b[1;32m~\\AppData\\Local\\Temp\\ipykernel_10400\\765288373.py\u001b[0m in \u001b[0;36m<module>\u001b[1;34m\u001b[0m\n\u001b[0;32m     18\u001b[0m                                           \u001b[1;34m\"B15003_017E\"\u001b[0m\u001b[1;33m,\u001b[0m\u001b[1;33m\u001b[0m\u001b[1;33m\u001b[0m\u001b[0m\n\u001b[0;32m     19\u001b[0m                                           \u001b[1;34m\"B15003_021E\"\u001b[0m\u001b[1;33m,\u001b[0m\u001b[1;33m\u001b[0m\u001b[1;33m\u001b[0m\u001b[0m\n\u001b[1;32m---> 20\u001b[1;33m                                           \u001b[1;34m\"B15003_022E\"\u001b[0m\u001b[1;33m,\u001b[0m\u001b[1;33m\u001b[0m\u001b[1;33m\u001b[0m\u001b[0m\n\u001b[0m\u001b[0;32m     21\u001b[0m                                           ])\n\u001b[0;32m     22\u001b[0m \u001b[1;33m\u001b[0m\u001b[0m\n",
      "\u001b[1;32m~\\anaconda3\\envs\\PythonData\\lib\\site-packages\\censusdata\\download.py\u001b[0m in \u001b[0;36mdownload\u001b[1;34m(src, year, geo, var, key, tabletype, endpt)\u001b[0m\n\u001b[0;32m    114\u001b[0m                 \u001b[0mparams\u001b[0m\u001b[1;33m.\u001b[0m\u001b[0mupdate\u001b[0m\u001b[1;33m(\u001b[0m\u001b[0mgeorequest\u001b[0m\u001b[1;33m)\u001b[0m\u001b[1;33m\u001b[0m\u001b[1;33m\u001b[0m\u001b[0m\n\u001b[0;32m    115\u001b[0m                 \u001b[1;32mif\u001b[0m \u001b[0mkey\u001b[0m \u001b[1;32mis\u001b[0m \u001b[1;32mnot\u001b[0m \u001b[1;32mNone\u001b[0m\u001b[1;33m:\u001b[0m \u001b[0mparams\u001b[0m\u001b[1;33m.\u001b[0m\u001b[0mupdate\u001b[0m\u001b[1;33m(\u001b[0m\u001b[1;33m{\u001b[0m\u001b[1;34m'key'\u001b[0m\u001b[1;33m:\u001b[0m \u001b[0mkey\u001b[0m\u001b[1;33m}\u001b[0m\u001b[1;33m)\u001b[0m\u001b[1;33m\u001b[0m\u001b[1;33m\u001b[0m\u001b[0m\n\u001b[1;32m--> 116\u001b[1;33m                 \u001b[0mdata\u001b[0m\u001b[1;33m.\u001b[0m\u001b[0mupdate\u001b[0m\u001b[1;33m(\u001b[0m\u001b[0m_download\u001b[0m\u001b[1;33m(\u001b[0m\u001b[0msrc\u001b[0m \u001b[1;33m+\u001b[0m \u001b[0mtabletype\u001b[0m\u001b[1;33m,\u001b[0m \u001b[0myear\u001b[0m\u001b[1;33m,\u001b[0m \u001b[0mparams\u001b[0m\u001b[1;33m,\u001b[0m \u001b[0mendpt\u001b[0m\u001b[1;33m=\u001b[0m\u001b[0mendpt\u001b[0m\u001b[1;33m)\u001b[0m\u001b[1;33m)\u001b[0m\u001b[1;33m\u001b[0m\u001b[1;33m\u001b[0m\u001b[0m\n\u001b[0m\u001b[0;32m    117\u001b[0m         \u001b[0mgeodata\u001b[0m \u001b[1;33m=\u001b[0m \u001b[0mdata\u001b[0m\u001b[1;33m.\u001b[0m\u001b[0mcopy\u001b[0m\u001b[1;33m(\u001b[0m\u001b[1;33m)\u001b[0m\u001b[1;33m\u001b[0m\u001b[1;33m\u001b[0m\u001b[0m\n\u001b[0;32m    118\u001b[0m         \u001b[1;32mfor\u001b[0m \u001b[0mkey\u001b[0m \u001b[1;32min\u001b[0m \u001b[0mlist\u001b[0m\u001b[1;33m(\u001b[0m\u001b[0mgeodata\u001b[0m\u001b[1;33m.\u001b[0m\u001b[0mkeys\u001b[0m\u001b[1;33m(\u001b[0m\u001b[1;33m)\u001b[0m\u001b[1;33m)\u001b[0m\u001b[1;33m:\u001b[0m\u001b[1;33m\u001b[0m\u001b[1;33m\u001b[0m\u001b[0m\n",
      "\u001b[1;32m~\\anaconda3\\envs\\PythonData\\lib\\site-packages\\censusdata\\download.py\u001b[0m in \u001b[0;36m_download\u001b[1;34m(src, year, params, baseurl, endpt)\u001b[0m\n\u001b[0;32m     36\u001b[0m                 \u001b[0mdata\u001b[0m \u001b[1;33m=\u001b[0m \u001b[0mr\u001b[0m\u001b[1;33m.\u001b[0m\u001b[0mjson\u001b[0m\u001b[1;33m(\u001b[0m\u001b[1;33m)\u001b[0m\u001b[1;33m\u001b[0m\u001b[1;33m\u001b[0m\u001b[0m\n\u001b[0;32m     37\u001b[0m         \u001b[1;32mexcept\u001b[0m\u001b[1;33m:\u001b[0m\u001b[1;33m\u001b[0m\u001b[1;33m\u001b[0m\u001b[0m\n\u001b[1;32m---> 38\u001b[1;33m                 \u001b[1;32mraise\u001b[0m \u001b[0mValueError\u001b[0m\u001b[1;33m(\u001b[0m\u001b[1;34m'Unexpected response (URL: {0.url}): {0.text} '\u001b[0m\u001b[1;33m.\u001b[0m\u001b[0mformat\u001b[0m\u001b[1;33m(\u001b[0m\u001b[0mr\u001b[0m\u001b[1;33m)\u001b[0m\u001b[1;33m)\u001b[0m\u001b[1;33m\u001b[0m\u001b[1;33m\u001b[0m\u001b[0m\n\u001b[0m\u001b[0;32m     39\u001b[0m         \u001b[0mrdata\u001b[0m \u001b[1;33m=\u001b[0m \u001b[0mOrderedDict\u001b[0m\u001b[1;33m(\u001b[0m\u001b[1;33m)\u001b[0m\u001b[1;33m\u001b[0m\u001b[1;33m\u001b[0m\u001b[0m\n\u001b[0;32m     40\u001b[0m         \u001b[1;32mfor\u001b[0m \u001b[0mj\u001b[0m \u001b[1;32min\u001b[0m \u001b[0mrange\u001b[0m\u001b[1;33m(\u001b[0m\u001b[0mlen\u001b[0m\u001b[1;33m(\u001b[0m\u001b[0mdata\u001b[0m\u001b[1;33m[\u001b[0m\u001b[1;36m0\u001b[0m\u001b[1;33m]\u001b[0m\u001b[1;33m)\u001b[0m\u001b[1;33m)\u001b[0m\u001b[1;33m:\u001b[0m\u001b[1;33m\u001b[0m\u001b[1;33m\u001b[0m\u001b[0m\n",
      "\u001b[1;31mValueError\u001b[0m: Unexpected response (URL: https://api.census.gov/data/2016/acs/acs1?get=NAME,B01001_001E,B02001_002E,B02001_003E,B02001_005E,B02001_008E,B03001_003E,B05002_013E,B08301_001E,B08301_010E,B15003_001E,B15003_016E,B15003_017E,B15003_021E,B15003_022E&for=tract:*&in=state:24+county:510): error: unknown/unsupported geography heirarchy "
     ]
    }
   ],
   "source": [
    "# American Community Survey 1-Year Data \n",
    "\n",
    "data = censusdata.download('acs1', 2016,\n",
    "                          censusdata.censusgeo([('state', '24'),\n",
    "                                         ('county', '510'),\n",
    "                                          ('tract', '*')]),\n",
    "                                        [\"B01001_001E\", \n",
    "                                          \"B02001_002E\",\n",
    "                                          \"B02001_003E\",\n",
    "                                          \"B02001_005E\",              \n",
    "                                          \"B02001_008E\",\n",
    "                                          \"B03001_003E\",\n",
    "                                          \"B05002_013E\",\n",
    "                                          \"B08301_001E\",               \n",
    "                                          \"B08301_010E\",\n",
    "                                          \"B15003_001E\",\n",
    "                                          \"B15003_016E\",               \n",
    "                                          \"B15003_017E\",\n",
    "                                          \"B15003_021E\",               \n",
    "                                          \"B15003_022E\", \n",
    "                                          ])\n",
    "                          \n",
    "census_df = pd.DataFrame(data)\n",
    "census_df.head()"
   ]
  },
  {
   "cell_type": "code",
   "execution_count": null,
   "id": "ab4b5638",
   "metadata": {},
   "outputs": [],
   "source": [
    "census_df = census_df.reset_index()"
   ]
  },
  {
   "cell_type": "code",
   "execution_count": null,
   "id": "bb223f69",
   "metadata": {},
   "outputs": [],
   "source": [
    "census_df = census_df.rename(columns={\"index\": \"Geography\"})\n",
    "census_df.head()"
   ]
  },
  {
   "cell_type": "code",
   "execution_count": null,
   "id": "d0984afc",
   "metadata": {},
   "outputs": [],
   "source": [
    "census_df.shape"
   ]
  },
  {
   "cell_type": "code",
   "execution_count": null,
   "id": "7b774a18",
   "metadata": {},
   "outputs": [],
   "source": [
    "census_df.dtypes"
   ]
  },
  {
   "cell_type": "code",
   "execution_count": null,
   "id": "f170ebdd",
   "metadata": {},
   "outputs": [],
   "source": [
    "# remove commas from the text in \"Geography\" column so that I can complete the following step of removing extraneous text\n",
    "census_df[\"Geography\"]= census_df[\"Geography\"].astype(str).str.replace(\",\",\" \")\n",
    "census_df"
   ]
  },
  {
   "cell_type": "code",
   "execution_count": null,
   "id": "5180d894",
   "metadata": {},
   "outputs": [],
   "source": [
    "# this didn't work until I did the step above of removing the commas from the text in the \"Geography\" column\n",
    "\n",
    "# Slice to a specific ending point from the end of the string: You can use the str.slice(stop) method to slice a string column up to a specific stop index from the end of the string. \n",
    "# see https://medium.com/geekculture/how-do-you-use-slice-method-in-the-pandas-dataframe-on-string-data-type-columns-6a8fd02c15eb\n",
    "# code below \"slices\"/ removes text from the 'Geography' column up to the 6th character from the END of the string\n",
    "census_df[\"Geography\"]= census_df[\"Geography\"].str.slice(-6)\n",
    "census_df"
   ]
  },
  {
   "cell_type": "code",
   "execution_count": null,
   "id": "958b114e",
   "metadata": {},
   "outputs": [],
   "source": [
    "# add census state code (24) and city code (510) to each value in the \"Geography column\" by concatenating 24510 with the tract #\n",
    "# this way, we can more easily merge with dataframes from other census dataframes for commercial corridors\n",
    "census_df[\"Geography\"] = \"24510\" + census_df[\"Geography\"]\n",
    "census_df.head()"
   ]
  },
  {
   "cell_type": "code",
   "execution_count": null,
   "id": "fcddfcfb",
   "metadata": {},
   "outputs": [],
   "source": [
    "census_df.columns"
   ]
  },
  {
   "cell_type": "code",
   "execution_count": null,
   "id": "70780703",
   "metadata": {},
   "outputs": [],
   "source": [
    "# Create Geographic Identifier (\"GEOID\") for each census tract by adding state fips code + county fips code + census tract code\n",
    "# see https://www.census.gov/programs-surveys/geography/guidance/geo-identifiers.html#:~:text=The%20full%20GEOID%20for%20many,codes%2C%20in%20which%20they%20nest.\n",
    "#census_df[\"GEOID\"] = census_df['state'] + census_df['county'] + census_df['tract']\n",
    "#census_df"
   ]
  },
  {
   "cell_type": "code",
   "execution_count": null,
   "id": "8454e2a5",
   "metadata": {},
   "outputs": [],
   "source": [
    "# Replace the census variable codes (such as \"B19013_001E\") in the dataframe with text so it's understandable\n",
    "census_df = census_df.rename(columns={\"B19001_001E\": \"Total households\",\n",
    "                                      \"B01001_001E\": \"Population\",\n",
    "                                      \"tract\": \"Census Tract\",  \n",
    "                                      \"B08301_001E\": \"Workers_16_yrs_and_over\",  \n",
    "                                      \"B08301_010E\": \"Commute_to_work_public_transportation\",       \n",
    "                                      \n",
    "                                      \"B02001_002E\": \"Pop. white\",\n",
    "                                      \"B02001_003E\": \"Pop. Black\",\n",
    "                                      \"B02001_005E\": \"Pop. Asian\",        \n",
    "                                      \"B02001_008E\": \"Pop. two or more races\",\n",
    "                                      \"B03001_003E\": \"Pop. Hispanic origin\",\n",
    "                                      \"B05002_013E\": \"# Foreign-born\",\n",
    "                                      \"B11002_001E\": \"Household population\",\n",
    "                                      \"B15003_001E\": \"Population_25_yrs_and_over\",\n",
    "                                      \"B15003_016E\": \"# persons 12th grade, no diploma\",\n",
    "                                      \"B15003_017E\": \"# persons graduated high school\",\n",
    "                                      \"B15003_021E\": \"# persons Associate's degree\",\n",
    "                                      \"B15003_022E\": \"# persons Bachelor's degree\"\n",
    "                                      \n",
    "                                     })       \n",
    "census_df.head()                              \n",
    "\n"
   ]
  },
  {
   "cell_type": "code",
   "execution_count": null,
   "id": "0f0d37a5",
   "metadata": {},
   "outputs": [],
   "source": [
    "# merge the census_pd dataframe with the age_final dataframe on the common column \"GEOID\"\n",
    "#census_joined2 = pd.concat([census_pd, age_final], axis=1)\n",
    "#census_joined2"
   ]
  },
  {
   "cell_type": "code",
   "execution_count": null,
   "id": "796292e4",
   "metadata": {},
   "outputs": [],
   "source": []
  },
  {
   "cell_type": "code",
   "execution_count": null,
   "id": "cd8afb53",
   "metadata": {},
   "outputs": [],
   "source": [
    "# GIS Analyst, Patrick, provided a csv (created from ARcGIS) that contains a key to match Baltimore's commercial corridors \n",
    "# with specific GEOIDS \n",
    "\n",
    "# Store filepath in a variable\n",
    "corridor_key = \"raw_data/corr_key.csv\"\n",
    "\n",
    "# Read the file with the pandas library\n",
    "corr_key_df2 = pd.read_csv(corridor_key)\n",
    "corr_key_df2.dtypes"
   ]
  },
  {
   "cell_type": "code",
   "execution_count": null,
   "id": "b47dd63f",
   "metadata": {},
   "outputs": [],
   "source": [
    "# Change data type of the \"GEOID\" column so that it's a string/ text and not an integer\n",
    "corr_key_df2[\"GEOID\"] = corr_key_df2[\"GEOID\"].astype('str')\n",
    "corr_key_df2.dtypes"
   ]
  },
  {
   "cell_type": "code",
   "execution_count": null,
   "id": "7f39cdc3",
   "metadata": {},
   "outputs": [],
   "source": [
    "corr_key_df2"
   ]
  },
  {
   "cell_type": "code",
   "execution_count": null,
   "id": "e544159b",
   "metadata": {},
   "outputs": [],
   "source": [
    "corr_key_df2.columns"
   ]
  },
  {
   "cell_type": "code",
   "execution_count": null,
   "id": "c80435dc",
   "metadata": {},
   "outputs": [],
   "source": [
    "#corr_key_df = corr_key_df2.sort_values(\"GEOID\")\n",
    "#corr_key_df"
   ]
  },
  {
   "cell_type": "code",
   "execution_count": null,
   "id": "3448a419",
   "metadata": {},
   "outputs": [],
   "source": [
    "# print all of the values in the \"GEOID\" column\n",
    "#geoid_list = census_joined2['GEOID'].tolist()\n",
    "#print(geoid_list)"
   ]
  },
  {
   "cell_type": "code",
   "execution_count": null,
   "id": "518ad569",
   "metadata": {},
   "outputs": [],
   "source": [
    "# rename \"GEOID\" column so can merge it with census_df on common column name \"Geography\"\n",
    "corr_key_df2 = corr_key_df2.rename(columns={\"GEOID\": \"Geography\"\n",
    "                                           })\n",
    "corr_key_df2"
   ]
  },
  {
   "cell_type": "code",
   "execution_count": null,
   "id": "c9a6cc25",
   "metadata": {},
   "outputs": [],
   "source": [
    "# combine the census_df dataframe with the corr_key_df2 dataframe \n",
    "\n",
    "corridors_df = pd.merge(\n",
    "    census_df, corr_key_df2, on=\"Geography\")\n",
    "corridors_df"
   ]
  },
  {
   "cell_type": "code",
   "execution_count": null,
   "id": "16d64c3b",
   "metadata": {},
   "outputs": [],
   "source": [
    "# remove any rows with NaN (\"Not a Number\") - used for missing values, by using .dropna() bc we only want rows that match to corridors we're studying\n",
    "corridors_df = corridors_df.dropna()\n",
    "corridors_df"
   ]
  },
  {
   "cell_type": "code",
   "execution_count": null,
   "id": "1c86a4bb",
   "metadata": {},
   "outputs": [],
   "source": [
    "corridors_df.columns"
   ]
  },
  {
   "cell_type": "code",
   "execution_count": null,
   "id": "f8621358",
   "metadata": {},
   "outputs": [],
   "source": [
    "# Use .groupby and .agg to sum the amounts by corridor\n",
    "corridors_sum = corridors_df.groupby(['Corridor'], as_index=False).agg(\n",
    "    {\"Population\": sum,\n",
    "     \"Pop. white\": sum,\n",
    "     \"Pop. Black\": sum,\n",
    "     \"Pop. Asian\": sum,\n",
    "     \"Pop. two or more races\": sum,\n",
    "     \"Pop. Hispanic origin\": sum,\n",
    "     \"# Foreign-born\": sum,\n",
    "     \"Workers_16_yrs_and_over\": sum,\n",
    "     \"Commute_to_work_public_transportation\": sum,\n",
    "     \"Population_25_yrs_and_over\": sum,\n",
    "     \"# persons 12th grade, no diploma\": sum,\n",
    "     \"# persons graduated high school\": sum,\n",
    "     \"# persons Associate's degree\": sum,\n",
    "     \"# persons Bachelor's degree\": sum\n",
    "    }) \n",
    "corridors_sum"
   ]
  },
  {
   "cell_type": "code",
   "execution_count": null,
   "id": "69190c08",
   "metadata": {},
   "outputs": [],
   "source": [
    "corridors_sum[\"Percent Black\"] = 100 * \\\n",
    "    corridors_sum[\"Pop. Black\"].astype(\n",
    "        int) / corridors_sum[\"Population\"].astype(\n",
    "        int) \n",
    "\n",
    "corridors_sum[\"Percent Black\"] = corridors_sum[\"Percent Black\"].astype(float).round(1)"
   ]
  },
  {
   "cell_type": "code",
   "execution_count": null,
   "id": "b4922389",
   "metadata": {},
   "outputs": [],
   "source": [
    "corridors_sum[\"Percent Hispanic origin\"] = 100 * \\\n",
    "    corridors_sum[\"Pop. Hispanic origin\"].astype(\n",
    "        int) / corridors_sum[\"Population\"].astype(\n",
    "        int) \n",
    "\n",
    "corridors_sum[\"Percent Hispanic origin\"] = corridors_sum[\"Percent Hispanic origin\"].astype(float).round(1)"
   ]
  },
  {
   "cell_type": "code",
   "execution_count": null,
   "id": "65e92504",
   "metadata": {},
   "outputs": [],
   "source": [
    "corridors_sum[\"Percent White\"] = 100 * \\\n",
    "    corridors_sum[\"Pop. white\"].astype(\n",
    "        int) / corridors_sum[\"Population\"].astype(\n",
    "        int) \n",
    "corridors_sum[\"Percent White\"] = corridors_sum[\"Percent White\"].astype(float).round(1)\n"
   ]
  },
  {
   "cell_type": "code",
   "execution_count": null,
   "id": "351a67a7",
   "metadata": {},
   "outputs": [],
   "source": [
    "corridors_sum[\"Percent two or more races\"] = 100 * \\\n",
    "    corridors_sum[\"Pop. two or more races\"].astype(\n",
    "        int) / corridors_sum[\"Population\"].astype(\n",
    "        int) \n",
    "corridors_sum[\"Percent two or more races\"] = corridors_sum[\"Percent two or more races\"].astype(float).round(1)\n"
   ]
  },
  {
   "cell_type": "code",
   "execution_count": null,
   "id": "b8002076",
   "metadata": {},
   "outputs": [],
   "source": []
  },
  {
   "cell_type": "code",
   "execution_count": null,
   "id": "79cf53d9",
   "metadata": {},
   "outputs": [],
   "source": [
    "corridors_sum[\"Percent 12th grade, no diploma\"] = 100 * \\\n",
    "    corridors_sum[\"# persons 12th grade, no diploma\"].astype(\n",
    "        int) / corridors_sum[\"Population_25_yrs_and_over\"].astype(\n",
    "        int) \n",
    "corridors_sum[\"Percent 12th grade, no diploma\"] = corridors_sum[\"Percent 12th grade, no diploma\"].astype(float).round(1)\n"
   ]
  },
  {
   "cell_type": "code",
   "execution_count": null,
   "id": "6c811060",
   "metadata": {},
   "outputs": [],
   "source": [
    "corridors_sum[\"Percent graduated high school\"] = 100 * \\\n",
    "    corridors_sum[\"# persons graduated high school\"].astype(\n",
    "        int) / corridors_sum[\"Population_25_yrs_and_over\"].astype(\n",
    "        int) \n",
    "corridors_sum[\"Percent graduated high school\"] = corridors_sum[\"Percent graduated high school\"].astype(float).round(1)\n"
   ]
  },
  {
   "cell_type": "code",
   "execution_count": null,
   "id": "2bf254f1",
   "metadata": {},
   "outputs": [],
   "source": [
    "corridors_sum[\"Percent earned Associate's degree\"] = 100 * \\\n",
    "    corridors_sum[\"# persons Associate's degree\"].astype(\n",
    "        int) / corridors_sum[\"Population_25_yrs_and_over\"].astype(\n",
    "        int) \n",
    "corridors_sum[\"Percent earned Associate's degree\"] = corridors_sum[\"Percent earned Associate's degree\"].astype(float).round(1)\n"
   ]
  },
  {
   "cell_type": "code",
   "execution_count": null,
   "id": "3332d889",
   "metadata": {},
   "outputs": [],
   "source": [
    "corridors_sum[\"Percent earned Bachelor's degree\"] = 100 * \\\n",
    "    corridors_sum[\"# persons Bachelor's degree\"].astype(\n",
    "        int) / corridors_sum[\"Population_25_yrs_and_over\"].astype(\n",
    "        int) \n",
    "corridors_sum[\"Percent earned Bachelor's degree\"] = corridors_sum[\"Percent earned Bachelor's degree\"].astype(float).round(1)\n"
   ]
  },
  {
   "cell_type": "code",
   "execution_count": null,
   "id": "bf5905e6",
   "metadata": {},
   "outputs": [],
   "source": [
    "corridors_sum[\"Percent Foreign-born\"] = 100 * \\\n",
    "    corridors_sum[\"# Foreign-born\"].astype(\n",
    "        int) / corridors_sum[\"Population\"].astype(\n",
    "        int) \n",
    "corridors_sum[\"Percent Foreign-born\"] = corridors_sum[\"Percent Foreign-born\"].astype(float).round(1)\n",
    "corridors_sum"
   ]
  },
  {
   "cell_type": "code",
   "execution_count": null,
   "id": "67aeddac",
   "metadata": {},
   "outputs": [],
   "source": [
    "corridors2021 = corridors_sum.copy()\n",
    "corridors2021"
   ]
  },
  {
   "cell_type": "code",
   "execution_count": null,
   "id": "eb11a09e",
   "metadata": {},
   "outputs": [],
   "source": []
  },
  {
   "cell_type": "code",
   "execution_count": null,
   "id": "9675f997",
   "metadata": {},
   "outputs": [],
   "source": [
    "# see https://medium.com/codex/say-goodbye-to-matplotlib-and-seaborn-for-your-python-plots-5cade2f7fba2\n",
    "# Use plotly to create scatter plot\n",
    "fig = px.scatter(corridors2021, x=\"Percent Black\", y= \"Percent earned Bachelor's degree\",\n",
    "                hover_name = \"Corridor\", color=\"Corridor\")\n",
    "fig.update_layout({\n",
    "'plot_bgcolor':'rgba(0,0,0,0)',\n",
    "'paper_bgcolor':'rgba(0,0,0,0)',\n",
    "'title': \"College Degree\"\n",
    "})\n",
    "fig.show()"
   ]
  },
  {
   "cell_type": "code",
   "execution_count": null,
   "id": "d395dc85",
   "metadata": {},
   "outputs": [],
   "source": [
    "# create bar chart using plotly\n",
    "Black = corridors2021.groupby(['Corridor'])['Percent Black'].sum().reset_index()\n",
    "Black.columns = ['Corridor','Percent Black']\n",
    "top_Black = Black.sort_values(by = ['Percent Black'],ascending = False)[:10]\n",
    "\n",
    "\n",
    "fig = px.bar(top_Black, x = 'Corridor', y=\"Percent Black\")\n",
    "fig.update_layout({\n",
    "'plot_bgcolor': 'rgba(0, 0, 0, 0)',\n",
    "'paper_bgcolor': 'rgba(0, 0, 0, 0)',\n",
    "'title': 'Corridors with highest percentage Black residents'})\n",
    "\n",
    "fig.show()"
   ]
  },
  {
   "cell_type": "code",
   "execution_count": null,
   "id": "b0e8b067",
   "metadata": {},
   "outputs": [],
   "source": []
  },
  {
   "cell_type": "code",
   "execution_count": null,
   "id": "0f2683c1",
   "metadata": {},
   "outputs": [],
   "source": []
  },
  {
   "cell_type": "code",
   "execution_count": null,
   "id": "9882aa74",
   "metadata": {},
   "outputs": [],
   "source": [
    "# how to use Dash to share your plotly visualizations: https://towardsdatascience.com/dash-for-beginners-create-interactive-python-dashboards-338bfcb6ffa4"
   ]
  },
  {
   "cell_type": "code",
   "execution_count": null,
   "id": "2e986dc7",
   "metadata": {},
   "outputs": [],
   "source": [
    "# Export df as an Excel file\n",
    "#corridors_2021_final.to_excel(\"CommCorr_demographics_2021.xlsx\", index = False)"
   ]
  },
  {
   "cell_type": "code",
   "execution_count": null,
   "id": "63c15362",
   "metadata": {},
   "outputs": [],
   "source": [
    "# import csv file of Baltimore City (as a whole) demographics\n",
    "# first save the data from the csv in variable, \"baltcity_2021\" \n",
    "\n",
    "#baltcity_2021 = \"BaltCity_demographics_2021.csv\""
   ]
  },
  {
   "cell_type": "code",
   "execution_count": null,
   "id": "e4e92ded",
   "metadata": {},
   "outputs": [],
   "source": [
    "# Create dataframes by reading the variable data from the code block above\n",
    "#balt_df2 = pd.read_csv(baltcity_2021)\n",
    "#balt_df2"
   ]
  },
  {
   "cell_type": "code",
   "execution_count": null,
   "id": "cec8fea8",
   "metadata": {},
   "outputs": [],
   "source": [
    "#balt_df = balt_df2.reset_index(drop=True)"
   ]
  },
  {
   "cell_type": "code",
   "execution_count": null,
   "id": "f6f7853f",
   "metadata": {},
   "outputs": [],
   "source": [
    "# merge the dataframes on the common column \"Corridor\"\n",
    "#corridors_balt_merge = pd.concat([corridors_2021_final, balt_df], axis=0)\n",
    "#corridors_balt_merge = corridors_balt_merge.reset_index(drop=True)\n",
    "#corridors_balt_merge.columns"
   ]
  },
  {
   "cell_type": "code",
   "execution_count": null,
   "id": "a397ba07",
   "metadata": {},
   "outputs": [],
   "source": [
    "# import csv file of Maryland demographics\n",
    "# first save the data from the csv in variable, \"MD_2021\" \n",
    "\n",
    "#MD_2021 = \"MD_demographics_2021.csv\""
   ]
  },
  {
   "cell_type": "code",
   "execution_count": null,
   "id": "0b2ee928",
   "metadata": {},
   "outputs": [],
   "source": [
    "# Create dataframe by reading the variable data from the code block above\n",
    "#MD_df = pd.read_csv(MD_2021)\n",
    "#MD_df"
   ]
  },
  {
   "cell_type": "code",
   "execution_count": null,
   "id": "9954dc14",
   "metadata": {},
   "outputs": [],
   "source": [
    "#MD_df = MD_df.reset_index(drop=True)"
   ]
  },
  {
   "cell_type": "code",
   "execution_count": null,
   "id": "83c569ef",
   "metadata": {},
   "outputs": [],
   "source": [
    "# merge the dataframes on the common column \"Corridor\"\n",
    "#Demog = pd.concat([corridors_balt_merge, MD_df], axis=0)\n",
    "#Demog = Demog.reset_index(drop=True)\n",
    "#Demog"
   ]
  },
  {
   "cell_type": "code",
   "execution_count": null,
   "id": "80dc4943",
   "metadata": {},
   "outputs": [],
   "source": []
  },
  {
   "cell_type": "code",
   "execution_count": null,
   "id": "3293c987",
   "metadata": {},
   "outputs": [],
   "source": [
    "# Change names of corridors (replace string using apply() function with lambda)\n",
    "#Demographics_Master = Demog.apply(lambda x: x.replace({\"Baltimore city, Maryland\":\"Baltimore City\", \"Penn Ave\": \"Pennsylvania Avenue\",\n",
    "#                                                       \"Belair Rd\": \"Belair Road\", \"North Ave\": \"North Avenue\"}, regex=True))\n",
    "#Demographics_Master                   "
   ]
  },
  {
   "cell_type": "code",
   "execution_count": null,
   "id": "9d2c822e",
   "metadata": {},
   "outputs": [],
   "source": [
    "#Demographics_Master.to_excel(\"CommCorr_Tableau-2021/CommCorr_Tableau_2021rev.xlsx\")"
   ]
  },
  {
   "cell_type": "code",
   "execution_count": null,
   "id": "c7124bb0",
   "metadata": {},
   "outputs": [],
   "source": []
  },
  {
   "cell_type": "code",
   "execution_count": null,
   "id": "795363d0",
   "metadata": {},
   "outputs": [],
   "source": []
  },
  {
   "cell_type": "code",
   "execution_count": null,
   "id": "5ca9c0a4",
   "metadata": {},
   "outputs": [],
   "source": []
  },
  {
   "cell_type": "code",
   "execution_count": null,
   "id": "b834d377",
   "metadata": {},
   "outputs": [],
   "source": []
  }
 ],
 "metadata": {
  "kernelspec": {
   "display_name": "Python 3",
   "language": "python",
   "name": "python3"
  },
  "language_info": {
   "codemirror_mode": {
    "name": "ipython",
    "version": 3
   },
   "file_extension": ".py",
   "mimetype": "text/x-python",
   "name": "python",
   "nbconvert_exporter": "python",
   "pygments_lexer": "ipython3",
   "version": "3.7.13"
  }
 },
 "nbformat": 4,
 "nbformat_minor": 5
}
