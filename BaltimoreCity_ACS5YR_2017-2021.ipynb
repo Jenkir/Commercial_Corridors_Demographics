{
 "cells": [
  {
   "cell_type": "markdown",
   "id": "39d11f53",
   "metadata": {},
   "source": [
    "### 2021 Census Data (ACS 5-year)for Selected Variables - Baltimore City\n",
    "\n"
   ]
  },
  {
   "cell_type": "code",
   "execution_count": 1,
   "id": "4993eb94",
   "metadata": {},
   "outputs": [],
   "source": [
    "# Dependencies\n",
    "import numpy as np\n",
    "import pandas as pd\n",
    "#import matplotlib.pyplot as plt\n",
    "import requests\n",
    "from census import Census\n",
    "\n",
    "import censusdata \n",
    "#import censusgeocode as cg\n",
    "import cenpy\n",
    "#from scipy.stats import linregress\n",
    "\n",
    "# Census & gmaps API Keys\n",
    "# the latest year available is the default year and so you do not need to specify the year\n",
    "\n",
    "from config import (api_key, gkey)\n",
    "c = Census(api_key)\n",
    "\n",
    "# Configure gmaps\n",
    "#gmaps.configure(api_key=gkey)"
   ]
  },
  {
   "cell_type": "code",
   "execution_count": 2,
   "id": "93a6a535",
   "metadata": {},
   "outputs": [],
   "source": [
    "#import os"
   ]
  },
  {
   "cell_type": "code",
   "execution_count": 3,
   "id": "adfdbb8f",
   "metadata": {},
   "outputs": [],
   "source": [
    "#os.getcwd()"
   ]
  },
  {
   "cell_type": "code",
   "execution_count": 4,
   "id": "ac68be79",
   "metadata": {},
   "outputs": [],
   "source": [
    "pd.set_option('display.max_rows', 200)"
   ]
  },
  {
   "cell_type": "code",
   "execution_count": 5,
   "id": "e7fc1bcf",
   "metadata": {},
   "outputs": [],
   "source": [
    "pd.set_option('max_colwidth', 250)"
   ]
  },
  {
   "cell_type": "code",
   "execution_count": 6,
   "id": "d8f914b2",
   "metadata": {},
   "outputs": [
    {
     "data": {
      "text/html": [
       "<div>\n",
       "<style scoped>\n",
       "    .dataframe tbody tr th:only-of-type {\n",
       "        vertical-align: middle;\n",
       "    }\n",
       "\n",
       "    .dataframe tbody tr th {\n",
       "        vertical-align: top;\n",
       "    }\n",
       "\n",
       "    .dataframe thead th {\n",
       "        text-align: right;\n",
       "    }\n",
       "</style>\n",
       "<table border=\"1\" class=\"dataframe\">\n",
       "  <thead>\n",
       "    <tr style=\"text-align: right;\">\n",
       "      <th></th>\n",
       "      <th>B01001_001E</th>\n",
       "      <th>B02001_002E</th>\n",
       "      <th>B02001_003E</th>\n",
       "      <th>B02001_005E</th>\n",
       "      <th>B02001_008E</th>\n",
       "      <th>B03001_003E</th>\n",
       "      <th>B05002_013E</th>\n",
       "      <th>B08301_001E</th>\n",
       "      <th>B08301_010E</th>\n",
       "      <th>B15003_001E</th>\n",
       "      <th>B15003_016E</th>\n",
       "      <th>B15003_017E</th>\n",
       "      <th>B15003_021E</th>\n",
       "      <th>B15003_022E</th>\n",
       "    </tr>\n",
       "  </thead>\n",
       "  <tbody>\n",
       "    <tr>\n",
       "      <th>Baltimore city, Maryland: Summary level: 050, state:24&gt; county:510</th>\n",
       "      <td>592211</td>\n",
       "      <td>173079</td>\n",
       "      <td>364879</td>\n",
       "      <td>14887</td>\n",
       "      <td>23091</td>\n",
       "      <td>33246</td>\n",
       "      <td>48142</td>\n",
       "      <td>271624</td>\n",
       "      <td>39122</td>\n",
       "      <td>414928</td>\n",
       "      <td>9620</td>\n",
       "      <td>95925</td>\n",
       "      <td>21425</td>\n",
       "      <td>71550</td>\n",
       "    </tr>\n",
       "  </tbody>\n",
       "</table>\n",
       "</div>"
      ],
      "text/plain": [
       "                                                                    B01001_001E  \\\n",
       "Baltimore city, Maryland: Summary level: 050, state:24> county:510       592211   \n",
       "\n",
       "                                                                    B02001_002E  \\\n",
       "Baltimore city, Maryland: Summary level: 050, state:24> county:510       173079   \n",
       "\n",
       "                                                                    B02001_003E  \\\n",
       "Baltimore city, Maryland: Summary level: 050, state:24> county:510       364879   \n",
       "\n",
       "                                                                    B02001_005E  \\\n",
       "Baltimore city, Maryland: Summary level: 050, state:24> county:510        14887   \n",
       "\n",
       "                                                                    B02001_008E  \\\n",
       "Baltimore city, Maryland: Summary level: 050, state:24> county:510        23091   \n",
       "\n",
       "                                                                    B03001_003E  \\\n",
       "Baltimore city, Maryland: Summary level: 050, state:24> county:510        33246   \n",
       "\n",
       "                                                                    B05002_013E  \\\n",
       "Baltimore city, Maryland: Summary level: 050, state:24> county:510        48142   \n",
       "\n",
       "                                                                    B08301_001E  \\\n",
       "Baltimore city, Maryland: Summary level: 050, state:24> county:510       271624   \n",
       "\n",
       "                                                                    B08301_010E  \\\n",
       "Baltimore city, Maryland: Summary level: 050, state:24> county:510        39122   \n",
       "\n",
       "                                                                    B15003_001E  \\\n",
       "Baltimore city, Maryland: Summary level: 050, state:24> county:510       414928   \n",
       "\n",
       "                                                                    B15003_016E  \\\n",
       "Baltimore city, Maryland: Summary level: 050, state:24> county:510         9620   \n",
       "\n",
       "                                                                    B15003_017E  \\\n",
       "Baltimore city, Maryland: Summary level: 050, state:24> county:510        95925   \n",
       "\n",
       "                                                                    B15003_021E  \\\n",
       "Baltimore city, Maryland: Summary level: 050, state:24> county:510        21425   \n",
       "\n",
       "                                                                    B15003_022E  \n",
       "Baltimore city, Maryland: Summary level: 050, state:24> county:510        71550  "
      ]
     },
     "execution_count": 6,
     "metadata": {},
     "output_type": "execute_result"
    }
   ],
   "source": [
    "# American Community Survey 5-Year Data \n",
    "\n",
    "data = censusdata.download('acs5', 2021,\n",
    "                          censusdata.censusgeo([('state', '24'),\n",
    "                                         ('county', '510')]),\n",
    "                                         [\"B01001_001E\", \n",
    "                                          \"B02001_002E\",\n",
    "                                          \"B02001_003E\",\n",
    "                                          \"B02001_005E\",              \n",
    "                                          \"B02001_008E\",\n",
    "                                          \"B03001_003E\",\n",
    "                                          \"B05002_013E\",\n",
    "                                          \"B08301_001E\",               \n",
    "                                          \"B08301_010E\",\n",
    "                                          \"B15003_001E\",\n",
    "                                          \"B15003_016E\",               \n",
    "                                          \"B15003_017E\",\n",
    "                                          \"B15003_021E\",               \n",
    "                                          \"B15003_022E\" \n",
    "                                          ])\n",
    "                          \n",
    "census_df = pd.DataFrame(data)\n",
    "census_df.head()"
   ]
  },
  {
   "cell_type": "code",
   "execution_count": 7,
   "id": "ab4b5638",
   "metadata": {},
   "outputs": [],
   "source": [
    "census_df = census_df.reset_index()"
   ]
  },
  {
   "cell_type": "code",
   "execution_count": 8,
   "id": "bb223f69",
   "metadata": {},
   "outputs": [
    {
     "data": {
      "text/html": [
       "<div>\n",
       "<style scoped>\n",
       "    .dataframe tbody tr th:only-of-type {\n",
       "        vertical-align: middle;\n",
       "    }\n",
       "\n",
       "    .dataframe tbody tr th {\n",
       "        vertical-align: top;\n",
       "    }\n",
       "\n",
       "    .dataframe thead th {\n",
       "        text-align: right;\n",
       "    }\n",
       "</style>\n",
       "<table border=\"1\" class=\"dataframe\">\n",
       "  <thead>\n",
       "    <tr style=\"text-align: right;\">\n",
       "      <th></th>\n",
       "      <th>Geography</th>\n",
       "      <th>B01001_001E</th>\n",
       "      <th>B02001_002E</th>\n",
       "      <th>B02001_003E</th>\n",
       "      <th>B02001_005E</th>\n",
       "      <th>B02001_008E</th>\n",
       "      <th>B03001_003E</th>\n",
       "      <th>B05002_013E</th>\n",
       "      <th>B08301_001E</th>\n",
       "      <th>B08301_010E</th>\n",
       "      <th>B15003_001E</th>\n",
       "      <th>B15003_016E</th>\n",
       "      <th>B15003_017E</th>\n",
       "      <th>B15003_021E</th>\n",
       "      <th>B15003_022E</th>\n",
       "    </tr>\n",
       "  </thead>\n",
       "  <tbody>\n",
       "    <tr>\n",
       "      <th>0</th>\n",
       "      <td>Baltimore city, Maryland: Summary level: 050, state:24&gt; county:510</td>\n",
       "      <td>592211</td>\n",
       "      <td>173079</td>\n",
       "      <td>364879</td>\n",
       "      <td>14887</td>\n",
       "      <td>23091</td>\n",
       "      <td>33246</td>\n",
       "      <td>48142</td>\n",
       "      <td>271624</td>\n",
       "      <td>39122</td>\n",
       "      <td>414928</td>\n",
       "      <td>9620</td>\n",
       "      <td>95925</td>\n",
       "      <td>21425</td>\n",
       "      <td>71550</td>\n",
       "    </tr>\n",
       "  </tbody>\n",
       "</table>\n",
       "</div>"
      ],
      "text/plain": [
       "                                                            Geography  \\\n",
       "0  Baltimore city, Maryland: Summary level: 050, state:24> county:510   \n",
       "\n",
       "   B01001_001E  B02001_002E  B02001_003E  B02001_005E  B02001_008E  \\\n",
       "0       592211       173079       364879        14887        23091   \n",
       "\n",
       "   B03001_003E  B05002_013E  B08301_001E  B08301_010E  B15003_001E  \\\n",
       "0        33246        48142       271624        39122       414928   \n",
       "\n",
       "   B15003_016E  B15003_017E  B15003_021E  B15003_022E  \n",
       "0         9620        95925        21425        71550  "
      ]
     },
     "execution_count": 8,
     "metadata": {},
     "output_type": "execute_result"
    }
   ],
   "source": [
    "census_df = census_df.rename(columns={\"index\": \"Geography\"})\n",
    "census_df.head()"
   ]
  },
  {
   "cell_type": "code",
   "execution_count": 9,
   "id": "d0984afc",
   "metadata": {},
   "outputs": [
    {
     "data": {
      "text/plain": [
       "(1, 15)"
      ]
     },
     "execution_count": 9,
     "metadata": {},
     "output_type": "execute_result"
    }
   ],
   "source": [
    "census_df.shape"
   ]
  },
  {
   "cell_type": "code",
   "execution_count": 10,
   "id": "7b774a18",
   "metadata": {},
   "outputs": [
    {
     "data": {
      "text/plain": [
       "Geography      object\n",
       "B01001_001E     int64\n",
       "B02001_002E     int64\n",
       "B02001_003E     int64\n",
       "B02001_005E     int64\n",
       "B02001_008E     int64\n",
       "B03001_003E     int64\n",
       "B05002_013E     int64\n",
       "B08301_001E     int64\n",
       "B08301_010E     int64\n",
       "B15003_001E     int64\n",
       "B15003_016E     int64\n",
       "B15003_017E     int64\n",
       "B15003_021E     int64\n",
       "B15003_022E     int64\n",
       "dtype: object"
      ]
     },
     "execution_count": 10,
     "metadata": {},
     "output_type": "execute_result"
    }
   ],
   "source": [
    "census_df.dtypes"
   ]
  },
  {
   "cell_type": "code",
   "execution_count": 11,
   "id": "f170ebdd",
   "metadata": {},
   "outputs": [
    {
     "data": {
      "text/html": [
       "<div>\n",
       "<style scoped>\n",
       "    .dataframe tbody tr th:only-of-type {\n",
       "        vertical-align: middle;\n",
       "    }\n",
       "\n",
       "    .dataframe tbody tr th {\n",
       "        vertical-align: top;\n",
       "    }\n",
       "\n",
       "    .dataframe thead th {\n",
       "        text-align: right;\n",
       "    }\n",
       "</style>\n",
       "<table border=\"1\" class=\"dataframe\">\n",
       "  <thead>\n",
       "    <tr style=\"text-align: right;\">\n",
       "      <th></th>\n",
       "      <th>Geography</th>\n",
       "      <th>B01001_001E</th>\n",
       "      <th>B02001_002E</th>\n",
       "      <th>B02001_003E</th>\n",
       "      <th>B02001_005E</th>\n",
       "      <th>B02001_008E</th>\n",
       "      <th>B03001_003E</th>\n",
       "      <th>B05002_013E</th>\n",
       "      <th>B08301_001E</th>\n",
       "      <th>B08301_010E</th>\n",
       "      <th>B15003_001E</th>\n",
       "      <th>B15003_016E</th>\n",
       "      <th>B15003_017E</th>\n",
       "      <th>B15003_021E</th>\n",
       "      <th>B15003_022E</th>\n",
       "    </tr>\n",
       "  </thead>\n",
       "  <tbody>\n",
       "    <tr>\n",
       "      <th>0</th>\n",
       "      <td>Baltimore city  Maryland: Summary level: 050  state:24&gt; county:510</td>\n",
       "      <td>592211</td>\n",
       "      <td>173079</td>\n",
       "      <td>364879</td>\n",
       "      <td>14887</td>\n",
       "      <td>23091</td>\n",
       "      <td>33246</td>\n",
       "      <td>48142</td>\n",
       "      <td>271624</td>\n",
       "      <td>39122</td>\n",
       "      <td>414928</td>\n",
       "      <td>9620</td>\n",
       "      <td>95925</td>\n",
       "      <td>21425</td>\n",
       "      <td>71550</td>\n",
       "    </tr>\n",
       "  </tbody>\n",
       "</table>\n",
       "</div>"
      ],
      "text/plain": [
       "                                                            Geography  \\\n",
       "0  Baltimore city  Maryland: Summary level: 050  state:24> county:510   \n",
       "\n",
       "   B01001_001E  B02001_002E  B02001_003E  B02001_005E  B02001_008E  \\\n",
       "0       592211       173079       364879        14887        23091   \n",
       "\n",
       "   B03001_003E  B05002_013E  B08301_001E  B08301_010E  B15003_001E  \\\n",
       "0        33246        48142       271624        39122       414928   \n",
       "\n",
       "   B15003_016E  B15003_017E  B15003_021E  B15003_022E  \n",
       "0         9620        95925        21425        71550  "
      ]
     },
     "execution_count": 11,
     "metadata": {},
     "output_type": "execute_result"
    }
   ],
   "source": [
    "# remove commas from the text in \"Geography\" column so that I can complete the following step of removing extraneous text\n",
    "census_df[\"Geography\"]= census_df[\"Geography\"].astype(str).str.replace(\",\",\" \")\n",
    "census_df"
   ]
  },
  {
   "cell_type": "code",
   "execution_count": 12,
   "id": "5180d894",
   "metadata": {},
   "outputs": [
    {
     "data": {
      "text/html": [
       "<div>\n",
       "<style scoped>\n",
       "    .dataframe tbody tr th:only-of-type {\n",
       "        vertical-align: middle;\n",
       "    }\n",
       "\n",
       "    .dataframe tbody tr th {\n",
       "        vertical-align: top;\n",
       "    }\n",
       "\n",
       "    .dataframe thead th {\n",
       "        text-align: right;\n",
       "    }\n",
       "</style>\n",
       "<table border=\"1\" class=\"dataframe\">\n",
       "  <thead>\n",
       "    <tr style=\"text-align: right;\">\n",
       "      <th></th>\n",
       "      <th>Geography</th>\n",
       "      <th>B01001_001E</th>\n",
       "      <th>B02001_002E</th>\n",
       "      <th>B02001_003E</th>\n",
       "      <th>B02001_005E</th>\n",
       "      <th>B02001_008E</th>\n",
       "      <th>B03001_003E</th>\n",
       "      <th>B05002_013E</th>\n",
       "      <th>B08301_001E</th>\n",
       "      <th>B08301_010E</th>\n",
       "      <th>B15003_001E</th>\n",
       "      <th>B15003_016E</th>\n",
       "      <th>B15003_017E</th>\n",
       "      <th>B15003_021E</th>\n",
       "      <th>B15003_022E</th>\n",
       "    </tr>\n",
       "  </thead>\n",
       "  <tbody>\n",
       "    <tr>\n",
       "      <th>0</th>\n",
       "      <td>510</td>\n",
       "      <td>592211</td>\n",
       "      <td>173079</td>\n",
       "      <td>364879</td>\n",
       "      <td>14887</td>\n",
       "      <td>23091</td>\n",
       "      <td>33246</td>\n",
       "      <td>48142</td>\n",
       "      <td>271624</td>\n",
       "      <td>39122</td>\n",
       "      <td>414928</td>\n",
       "      <td>9620</td>\n",
       "      <td>95925</td>\n",
       "      <td>21425</td>\n",
       "      <td>71550</td>\n",
       "    </tr>\n",
       "  </tbody>\n",
       "</table>\n",
       "</div>"
      ],
      "text/plain": [
       "  Geography  B01001_001E  B02001_002E  B02001_003E  B02001_005E  B02001_008E  \\\n",
       "0       510       592211       173079       364879        14887        23091   \n",
       "\n",
       "   B03001_003E  B05002_013E  B08301_001E  B08301_010E  B15003_001E  \\\n",
       "0        33246        48142       271624        39122       414928   \n",
       "\n",
       "   B15003_016E  B15003_017E  B15003_021E  B15003_022E  \n",
       "0         9620        95925        21425        71550  "
      ]
     },
     "execution_count": 12,
     "metadata": {},
     "output_type": "execute_result"
    }
   ],
   "source": [
    "# this didn't work until I did the step above of removing the commas from the text in the \"Geography\" column\n",
    "\n",
    "# Slice to a specific ending point from the end of the string: You can use the str.slice(stop) method to slice a string column up to a specific stop index from the end of the string. \n",
    "# see https://medium.com/geekculture/how-do-you-use-slice-method-in-the-pandas-dataframe-on-string-data-type-columns-6a8fd02c15eb\n",
    "# code below \"slices\"/ removes text from the 'Geography' column up to the 6th character from the END of the string\n",
    "census_df[\"Geography\"]= census_df[\"Geography\"].str.slice(-3)\n",
    "census_df"
   ]
  },
  {
   "cell_type": "code",
   "execution_count": 13,
   "id": "958b114e",
   "metadata": {},
   "outputs": [
    {
     "data": {
      "text/html": [
       "<div>\n",
       "<style scoped>\n",
       "    .dataframe tbody tr th:only-of-type {\n",
       "        vertical-align: middle;\n",
       "    }\n",
       "\n",
       "    .dataframe tbody tr th {\n",
       "        vertical-align: top;\n",
       "    }\n",
       "\n",
       "    .dataframe thead th {\n",
       "        text-align: right;\n",
       "    }\n",
       "</style>\n",
       "<table border=\"1\" class=\"dataframe\">\n",
       "  <thead>\n",
       "    <tr style=\"text-align: right;\">\n",
       "      <th></th>\n",
       "      <th>Geography</th>\n",
       "      <th>B01001_001E</th>\n",
       "      <th>B02001_002E</th>\n",
       "      <th>B02001_003E</th>\n",
       "      <th>B02001_005E</th>\n",
       "      <th>B02001_008E</th>\n",
       "      <th>B03001_003E</th>\n",
       "      <th>B05002_013E</th>\n",
       "      <th>B08301_001E</th>\n",
       "      <th>B08301_010E</th>\n",
       "      <th>B15003_001E</th>\n",
       "      <th>B15003_016E</th>\n",
       "      <th>B15003_017E</th>\n",
       "      <th>B15003_021E</th>\n",
       "      <th>B15003_022E</th>\n",
       "    </tr>\n",
       "  </thead>\n",
       "  <tbody>\n",
       "    <tr>\n",
       "      <th>0</th>\n",
       "      <td>24510</td>\n",
       "      <td>592211</td>\n",
       "      <td>173079</td>\n",
       "      <td>364879</td>\n",
       "      <td>14887</td>\n",
       "      <td>23091</td>\n",
       "      <td>33246</td>\n",
       "      <td>48142</td>\n",
       "      <td>271624</td>\n",
       "      <td>39122</td>\n",
       "      <td>414928</td>\n",
       "      <td>9620</td>\n",
       "      <td>95925</td>\n",
       "      <td>21425</td>\n",
       "      <td>71550</td>\n",
       "    </tr>\n",
       "  </tbody>\n",
       "</table>\n",
       "</div>"
      ],
      "text/plain": [
       "  Geography  B01001_001E  B02001_002E  B02001_003E  B02001_005E  B02001_008E  \\\n",
       "0     24510       592211       173079       364879        14887        23091   \n",
       "\n",
       "   B03001_003E  B05002_013E  B08301_001E  B08301_010E  B15003_001E  \\\n",
       "0        33246        48142       271624        39122       414928   \n",
       "\n",
       "   B15003_016E  B15003_017E  B15003_021E  B15003_022E  \n",
       "0         9620        95925        21425        71550  "
      ]
     },
     "execution_count": 13,
     "metadata": {},
     "output_type": "execute_result"
    }
   ],
   "source": [
    "# add census state code (24) and city code (510) to each value in the \"Geography column\" by concatenating 24510 with the tract #\n",
    "# this way, we can more easily merge with dataframes from other census dataframes for commercial corridors\n",
    "census_df[\"Geography\"] = \"24\" + census_df[\"Geography\"]\n",
    "census_df.head()"
   ]
  },
  {
   "cell_type": "code",
   "execution_count": 14,
   "id": "fcddfcfb",
   "metadata": {},
   "outputs": [
    {
     "data": {
      "text/plain": [
       "Index(['Geography', 'B01001_001E', 'B02001_002E', 'B02001_003E', 'B02001_005E',\n",
       "       'B02001_008E', 'B03001_003E', 'B05002_013E', 'B08301_001E',\n",
       "       'B08301_010E', 'B15003_001E', 'B15003_016E', 'B15003_017E',\n",
       "       'B15003_021E', 'B15003_022E'],\n",
       "      dtype='object')"
      ]
     },
     "execution_count": 14,
     "metadata": {},
     "output_type": "execute_result"
    }
   ],
   "source": [
    "census_df.columns"
   ]
  },
  {
   "cell_type": "code",
   "execution_count": 15,
   "id": "70780703",
   "metadata": {},
   "outputs": [],
   "source": [
    "# Create Geographic Identifier (\"GEOID\") for each census tract by adding state fips code + county fips code + census tract code\n",
    "# see https://www.census.gov/programs-surveys/geography/guidance/geo-identifiers.html#:~:text=The%20full%20GEOID%20for%20many,codes%2C%20in%20which%20they%20nest.\n",
    "#census_df[\"GEOID\"] = census_df['state'] + census_df['county'] + census_df['tract']\n",
    "#census_df"
   ]
  },
  {
   "cell_type": "code",
   "execution_count": 16,
   "id": "8454e2a5",
   "metadata": {},
   "outputs": [
    {
     "data": {
      "text/html": [
       "<div>\n",
       "<style scoped>\n",
       "    .dataframe tbody tr th:only-of-type {\n",
       "        vertical-align: middle;\n",
       "    }\n",
       "\n",
       "    .dataframe tbody tr th {\n",
       "        vertical-align: top;\n",
       "    }\n",
       "\n",
       "    .dataframe thead th {\n",
       "        text-align: right;\n",
       "    }\n",
       "</style>\n",
       "<table border=\"1\" class=\"dataframe\">\n",
       "  <thead>\n",
       "    <tr style=\"text-align: right;\">\n",
       "      <th></th>\n",
       "      <th>Geography</th>\n",
       "      <th>Population</th>\n",
       "      <th>Pop. white</th>\n",
       "      <th>Pop. Black</th>\n",
       "      <th>Pop. Asian</th>\n",
       "      <th>Pop. two or more races</th>\n",
       "      <th>Pop. Hispanic origin</th>\n",
       "      <th># Foreign-born</th>\n",
       "      <th>Workers_16_yrs_and_over</th>\n",
       "      <th>Commute_to_work_public_transportation</th>\n",
       "      <th>Population_25_yrs_and_over</th>\n",
       "      <th># persons 12th grade, no diploma</th>\n",
       "      <th># persons graduated high school</th>\n",
       "      <th># persons Associate's degree</th>\n",
       "      <th># persons Bachelor's degree</th>\n",
       "    </tr>\n",
       "  </thead>\n",
       "  <tbody>\n",
       "    <tr>\n",
       "      <th>0</th>\n",
       "      <td>24510</td>\n",
       "      <td>592211</td>\n",
       "      <td>173079</td>\n",
       "      <td>364879</td>\n",
       "      <td>14887</td>\n",
       "      <td>23091</td>\n",
       "      <td>33246</td>\n",
       "      <td>48142</td>\n",
       "      <td>271624</td>\n",
       "      <td>39122</td>\n",
       "      <td>414928</td>\n",
       "      <td>9620</td>\n",
       "      <td>95925</td>\n",
       "      <td>21425</td>\n",
       "      <td>71550</td>\n",
       "    </tr>\n",
       "  </tbody>\n",
       "</table>\n",
       "</div>"
      ],
      "text/plain": [
       "  Geography  Population  Pop. white  Pop. Black  Pop. Asian  \\\n",
       "0     24510      592211      173079      364879       14887   \n",
       "\n",
       "   Pop. two or more races  Pop. Hispanic origin  # Foreign-born  \\\n",
       "0                   23091                 33246           48142   \n",
       "\n",
       "   Workers_16_yrs_and_over  Commute_to_work_public_transportation  \\\n",
       "0                   271624                                  39122   \n",
       "\n",
       "   Population_25_yrs_and_over  # persons 12th grade, no diploma  \\\n",
       "0                      414928                              9620   \n",
       "\n",
       "   # persons graduated high school  # persons Associate's degree  \\\n",
       "0                            95925                         21425   \n",
       "\n",
       "   # persons Bachelor's degree  \n",
       "0                        71550  "
      ]
     },
     "execution_count": 16,
     "metadata": {},
     "output_type": "execute_result"
    }
   ],
   "source": [
    "# Replace the census variable codes (such as \"B19013_001E\") in the dataframe with text so it's understandable\n",
    "census_df = census_df.rename(columns={\"B19001_001E\": \"Total households\",\n",
    "                                      \"B01001_001E\": \"Population\",\n",
    "                                      \"tract\": \"Census Tract\",  \n",
    "                                      \"B08301_001E\": \"Workers_16_yrs_and_over\",  \n",
    "                                      \"B08301_010E\": \"Commute_to_work_public_transportation\",       \n",
    "                                      \n",
    "                                      \"B02001_002E\": \"Pop. white\",\n",
    "                                      \"B02001_003E\": \"Pop. Black\",\n",
    "                                      \"B02001_005E\": \"Pop. Asian\",        \n",
    "                                      \"B02001_008E\": \"Pop. two or more races\",\n",
    "                                      \"B03001_003E\": \"Pop. Hispanic origin\",\n",
    "                                      \"B05002_013E\": \"# Foreign-born\",\n",
    "                                      \"B11002_001E\": \"Household population\",\n",
    "                                      \"B15003_001E\": \"Population_25_yrs_and_over\",\n",
    "                                      \"B15003_016E\": \"# persons 12th grade, no diploma\",\n",
    "                                      \"B15003_017E\": \"# persons graduated high school\",\n",
    "                                      \"B15003_021E\": \"# persons Associate's degree\",\n",
    "                                      \"B15003_022E\": \"# persons Bachelor's degree\"\n",
    "                                      \n",
    "                                     })       \n",
    "census_df.head()                              \n",
    "\n"
   ]
  },
  {
   "cell_type": "code",
   "execution_count": null,
   "id": "796292e4",
   "metadata": {},
   "outputs": [],
   "source": []
  },
  {
   "cell_type": "code",
   "execution_count": 28,
   "id": "f8621358",
   "metadata": {},
   "outputs": [
    {
     "data": {
      "text/html": [
       "<div>\n",
       "<style scoped>\n",
       "    .dataframe tbody tr th:only-of-type {\n",
       "        vertical-align: middle;\n",
       "    }\n",
       "\n",
       "    .dataframe tbody tr th {\n",
       "        vertical-align: top;\n",
       "    }\n",
       "\n",
       "    .dataframe thead th {\n",
       "        text-align: right;\n",
       "    }\n",
       "</style>\n",
       "<table border=\"1\" class=\"dataframe\">\n",
       "  <thead>\n",
       "    <tr style=\"text-align: right;\">\n",
       "      <th></th>\n",
       "      <th>Corridor</th>\n",
       "      <th>Population</th>\n",
       "      <th>Pop. white</th>\n",
       "      <th>Pop. Black</th>\n",
       "      <th>Pop. Asian</th>\n",
       "      <th>Pop. two or more races</th>\n",
       "      <th>Pop. Hispanic origin</th>\n",
       "      <th># Foreign-born</th>\n",
       "      <th>Workers_16_yrs_and_over</th>\n",
       "      <th>Commute_to_work_public_transportation</th>\n",
       "      <th>Population_25_yrs_and_over</th>\n",
       "      <th># persons 12th grade, no diploma</th>\n",
       "      <th># persons graduated high school</th>\n",
       "      <th># persons Associate's degree</th>\n",
       "      <th># persons Bachelor's degree</th>\n",
       "    </tr>\n",
       "  </thead>\n",
       "  <tbody>\n",
       "  </tbody>\n",
       "</table>\n",
       "</div>"
      ],
      "text/plain": [
       "Empty DataFrame\n",
       "Columns: [Corridor, Population, Pop. white, Pop. Black, Pop. Asian, Pop. two or more races, Pop. Hispanic origin, # Foreign-born, Workers_16_yrs_and_over, Commute_to_work_public_transportation, Population_25_yrs_and_over, # persons 12th grade, no diploma, # persons graduated high school, # persons Associate's degree, # persons Bachelor's degree]\n",
       "Index: []"
      ]
     },
     "execution_count": 28,
     "metadata": {},
     "output_type": "execute_result"
    }
   ],
   "source": [
    "# Use .groupby and .agg to sum the amounts by corridor\n",
    "corridors_sum = corridors_df.groupby(['Corridor'], as_index=False).agg(\n",
    "    {\"Population\": sum,\n",
    "     \"Pop. white\": sum,\n",
    "     \"Pop. Black\": sum,\n",
    "     \"Pop. Asian\": sum,\n",
    "     \"Pop. two or more races\": sum,\n",
    "     \"Pop. Hispanic origin\": sum,\n",
    "     \"# Foreign-born\": sum,\n",
    "     \"Workers_16_yrs_and_over\": sum,\n",
    "     \"Commute_to_work_public_transportation\": sum,\n",
    "     \"Population_25_yrs_and_over\": sum,\n",
    "     \"# persons 12th grade, no diploma\": sum,\n",
    "     \"# persons graduated high school\": sum,\n",
    "     \"# persons Associate's degree\": sum,\n",
    "     \"# persons Bachelor's degree\": sum\n",
    "    }) \n",
    "corridors_sum"
   ]
  },
  {
   "cell_type": "code",
   "execution_count": 29,
   "id": "69190c08",
   "metadata": {},
   "outputs": [],
   "source": [
    "corridors_sum[\"Percent Black\"] = 100 * \\\n",
    "    corridors_sum[\"Pop. Black\"].astype(\n",
    "        int) / corridors_sum[\"Population\"].astype(\n",
    "        int) \n",
    "\n",
    "corridors_sum[\"Percent Black\"] = corridors_sum[\"Percent Black\"].astype(float).round(1)"
   ]
  },
  {
   "cell_type": "code",
   "execution_count": 30,
   "id": "b4922389",
   "metadata": {},
   "outputs": [],
   "source": [
    "corridors_sum[\"Percent Hispanic origin\"] = 100 * \\\n",
    "    corridors_sum[\"Pop. Hispanic origin\"].astype(\n",
    "        int) / corridors_sum[\"Population\"].astype(\n",
    "        int) \n",
    "\n",
    "corridors_sum[\"Percent Hispanic origin\"] = corridors_sum[\"Percent Hispanic origin\"].astype(float).round(1)"
   ]
  },
  {
   "cell_type": "code",
   "execution_count": 31,
   "id": "65e92504",
   "metadata": {},
   "outputs": [],
   "source": [
    "corridors_sum[\"Percent White\"] = 100 * \\\n",
    "    corridors_sum[\"Pop. white\"].astype(\n",
    "        int) / corridors_sum[\"Population\"].astype(\n",
    "        int) \n",
    "corridors_sum[\"Percent White\"] = corridors_sum[\"Percent White\"].astype(float).round(1)\n"
   ]
  },
  {
   "cell_type": "code",
   "execution_count": 32,
   "id": "351a67a7",
   "metadata": {},
   "outputs": [],
   "source": [
    "corridors_sum[\"Percent two or more races\"] = 100 * \\\n",
    "    corridors_sum[\"Pop. two or more races\"].astype(\n",
    "        int) / corridors_sum[\"Population\"].astype(\n",
    "        int) \n",
    "corridors_sum[\"Percent two or more races\"] = corridors_sum[\"Percent two or more races\"].astype(float).round(1)\n"
   ]
  },
  {
   "cell_type": "code",
   "execution_count": null,
   "id": "b8002076",
   "metadata": {},
   "outputs": [],
   "source": []
  },
  {
   "cell_type": "code",
   "execution_count": 33,
   "id": "79cf53d9",
   "metadata": {},
   "outputs": [],
   "source": [
    "corridors_sum[\"Percent 12th grade, no diploma\"] = 100 * \\\n",
    "    corridors_sum[\"# persons 12th grade, no diploma\"].astype(\n",
    "        int) / corridors_sum[\"Population_25_yrs_and_over\"].astype(\n",
    "        int) \n",
    "corridors_sum[\"Percent 12th grade, no diploma\"] = corridors_sum[\"Percent 12th grade, no diploma\"].astype(float).round(1)\n"
   ]
  },
  {
   "cell_type": "code",
   "execution_count": 34,
   "id": "6c811060",
   "metadata": {},
   "outputs": [],
   "source": [
    "corridors_sum[\"Percent graduated high school\"] = 100 * \\\n",
    "    corridors_sum[\"# persons graduated high school\"].astype(\n",
    "        int) / corridors_sum[\"Population_25_yrs_and_over\"].astype(\n",
    "        int) \n",
    "corridors_sum[\"Percent graduated high school\"] = corridors_sum[\"Percent graduated high school\"].astype(float).round(1)\n"
   ]
  },
  {
   "cell_type": "code",
   "execution_count": 35,
   "id": "2bf254f1",
   "metadata": {},
   "outputs": [],
   "source": [
    "corridors_sum[\"Percent earned Associate's degree\"] = 100 * \\\n",
    "    corridors_sum[\"# persons Associate's degree\"].astype(\n",
    "        int) / corridors_sum[\"Population_25_yrs_and_over\"].astype(\n",
    "        int) \n",
    "corridors_sum[\"Percent earned Associate's degree\"] = corridors_sum[\"Percent earned Associate's degree\"].astype(float).round(1)\n"
   ]
  },
  {
   "cell_type": "code",
   "execution_count": 36,
   "id": "3332d889",
   "metadata": {},
   "outputs": [],
   "source": [
    "corridors_sum[\"Percent earned Bachelor's degree\"] = 100 * \\\n",
    "    corridors_sum[\"# persons Bachelor's degree\"].astype(\n",
    "        int) / corridors_sum[\"Population_25_yrs_and_over\"].astype(\n",
    "        int) \n",
    "corridors_sum[\"Percent earned Bachelor's degree\"] = corridors_sum[\"Percent earned Bachelor's degree\"].astype(float).round(1)\n"
   ]
  },
  {
   "cell_type": "code",
   "execution_count": 37,
   "id": "bf5905e6",
   "metadata": {},
   "outputs": [
    {
     "data": {
      "text/html": [
       "<div>\n",
       "<style scoped>\n",
       "    .dataframe tbody tr th:only-of-type {\n",
       "        vertical-align: middle;\n",
       "    }\n",
       "\n",
       "    .dataframe tbody tr th {\n",
       "        vertical-align: top;\n",
       "    }\n",
       "\n",
       "    .dataframe thead th {\n",
       "        text-align: right;\n",
       "    }\n",
       "</style>\n",
       "<table border=\"1\" class=\"dataframe\">\n",
       "  <thead>\n",
       "    <tr style=\"text-align: right;\">\n",
       "      <th></th>\n",
       "      <th>Corridor</th>\n",
       "      <th>Population</th>\n",
       "      <th>Pop. white</th>\n",
       "      <th>Pop. Black</th>\n",
       "      <th>Pop. Asian</th>\n",
       "      <th>Pop. two or more races</th>\n",
       "      <th>Pop. Hispanic origin</th>\n",
       "      <th># Foreign-born</th>\n",
       "      <th>Workers_16_yrs_and_over</th>\n",
       "      <th>Commute_to_work_public_transportation</th>\n",
       "      <th>...</th>\n",
       "      <th># persons Bachelor's degree</th>\n",
       "      <th>Percent Black</th>\n",
       "      <th>Percent Hispanic origin</th>\n",
       "      <th>Percent White</th>\n",
       "      <th>Percent two or more races</th>\n",
       "      <th>Percent 12th grade, no diploma</th>\n",
       "      <th>Percent graduated high school</th>\n",
       "      <th>Percent earned Associate's degree</th>\n",
       "      <th>Percent earned Bachelor's degree</th>\n",
       "      <th>Percent Foreign-born</th>\n",
       "    </tr>\n",
       "  </thead>\n",
       "  <tbody>\n",
       "  </tbody>\n",
       "</table>\n",
       "<p>0 rows × 24 columns</p>\n",
       "</div>"
      ],
      "text/plain": [
       "Empty DataFrame\n",
       "Columns: [Corridor, Population, Pop. white, Pop. Black, Pop. Asian, Pop. two or more races, Pop. Hispanic origin, # Foreign-born, Workers_16_yrs_and_over, Commute_to_work_public_transportation, Population_25_yrs_and_over, # persons 12th grade, no diploma, # persons graduated high school, # persons Associate's degree, # persons Bachelor's degree, Percent Black, Percent Hispanic origin, Percent White, Percent two or more races, Percent 12th grade, no diploma, Percent graduated high school, Percent earned Associate's degree, Percent earned Bachelor's degree, Percent Foreign-born]\n",
       "Index: []\n",
       "\n",
       "[0 rows x 24 columns]"
      ]
     },
     "execution_count": 37,
     "metadata": {},
     "output_type": "execute_result"
    }
   ],
   "source": [
    "corridors_sum[\"Percent Foreign-born\"] = 100 * \\\n",
    "    corridors_sum[\"# Foreign-born\"].astype(\n",
    "        int) / corridors_sum[\"Population\"].astype(\n",
    "        int) \n",
    "corridors_sum[\"Percent Foreign-born\"] = corridors_sum[\"Percent Foreign-born\"].astype(float).round(1)\n",
    "corridors_sum"
   ]
  },
  {
   "cell_type": "code",
   "execution_count": 38,
   "id": "67aeddac",
   "metadata": {},
   "outputs": [
    {
     "data": {
      "text/html": [
       "<div>\n",
       "<style scoped>\n",
       "    .dataframe tbody tr th:only-of-type {\n",
       "        vertical-align: middle;\n",
       "    }\n",
       "\n",
       "    .dataframe tbody tr th {\n",
       "        vertical-align: top;\n",
       "    }\n",
       "\n",
       "    .dataframe thead th {\n",
       "        text-align: right;\n",
       "    }\n",
       "</style>\n",
       "<table border=\"1\" class=\"dataframe\">\n",
       "  <thead>\n",
       "    <tr style=\"text-align: right;\">\n",
       "      <th></th>\n",
       "      <th>Corridor</th>\n",
       "      <th>Population</th>\n",
       "      <th>Pop. white</th>\n",
       "      <th>Pop. Black</th>\n",
       "      <th>Pop. Asian</th>\n",
       "      <th>Pop. two or more races</th>\n",
       "      <th>Pop. Hispanic origin</th>\n",
       "      <th># Foreign-born</th>\n",
       "      <th>Workers_16_yrs_and_over</th>\n",
       "      <th>Commute_to_work_public_transportation</th>\n",
       "      <th>...</th>\n",
       "      <th># persons Bachelor's degree</th>\n",
       "      <th>Percent Black</th>\n",
       "      <th>Percent Hispanic origin</th>\n",
       "      <th>Percent White</th>\n",
       "      <th>Percent two or more races</th>\n",
       "      <th>Percent 12th grade, no diploma</th>\n",
       "      <th>Percent graduated high school</th>\n",
       "      <th>Percent earned Associate's degree</th>\n",
       "      <th>Percent earned Bachelor's degree</th>\n",
       "      <th>Percent Foreign-born</th>\n",
       "    </tr>\n",
       "  </thead>\n",
       "  <tbody>\n",
       "  </tbody>\n",
       "</table>\n",
       "<p>0 rows × 24 columns</p>\n",
       "</div>"
      ],
      "text/plain": [
       "Empty DataFrame\n",
       "Columns: [Corridor, Population, Pop. white, Pop. Black, Pop. Asian, Pop. two or more races, Pop. Hispanic origin, # Foreign-born, Workers_16_yrs_and_over, Commute_to_work_public_transportation, Population_25_yrs_and_over, # persons 12th grade, no diploma, # persons graduated high school, # persons Associate's degree, # persons Bachelor's degree, Percent Black, Percent Hispanic origin, Percent White, Percent two or more races, Percent 12th grade, no diploma, Percent graduated high school, Percent earned Associate's degree, Percent earned Bachelor's degree, Percent Foreign-born]\n",
       "Index: []\n",
       "\n",
       "[0 rows x 24 columns]"
      ]
     },
     "execution_count": 38,
     "metadata": {},
     "output_type": "execute_result"
    }
   ],
   "source": [
    "corridors2021 = corridors_sum.copy()\n",
    "corridors2021"
   ]
  },
  {
   "cell_type": "code",
   "execution_count": null,
   "id": "eb11a09e",
   "metadata": {},
   "outputs": [],
   "source": []
  },
  {
   "cell_type": "code",
   "execution_count": null,
   "id": "d395dc85",
   "metadata": {},
   "outputs": [],
   "source": [
    "# create bar chart using plotly\n",
    "Black = corridors2021.groupby(['Corridor'])['Percent Black'].sum().reset_index()\n",
    "Black.columns = ['Corridor','Percent Black']\n",
    "top_Black = Black.sort_values(by = ['Percent Black'],ascending = False)[:10]\n",
    "\n",
    "\n",
    "fig = px.bar(top_Black, x = 'Corridor', y=\"Percent Black\")\n",
    "fig.update_layout({\n",
    "'plot_bgcolor': 'rgba(0, 0, 0, 0)',\n",
    "'paper_bgcolor': 'rgba(0, 0, 0, 0)',\n",
    "'title': 'Corridors with highest percentage Black residents'})\n",
    "\n",
    "fig.show()"
   ]
  },
  {
   "cell_type": "code",
   "execution_count": null,
   "id": "b0e8b067",
   "metadata": {},
   "outputs": [],
   "source": []
  },
  {
   "cell_type": "code",
   "execution_count": null,
   "id": "0f2683c1",
   "metadata": {},
   "outputs": [],
   "source": []
  },
  {
   "cell_type": "code",
   "execution_count": null,
   "id": "9882aa74",
   "metadata": {},
   "outputs": [],
   "source": [
    "# how to use Dash to share your plotly visualizations: https://towardsdatascience.com/dash-for-beginners-create-interactive-python-dashboards-338bfcb6ffa4"
   ]
  },
  {
   "cell_type": "code",
   "execution_count": null,
   "id": "2e986dc7",
   "metadata": {},
   "outputs": [],
   "source": [
    "# Export df as an Excel file\n",
    "#corridors_2021_final.to_excel(\"CommCorr_demographics_2021.xlsx\", index = False)"
   ]
  },
  {
   "cell_type": "code",
   "execution_count": null,
   "id": "63c15362",
   "metadata": {},
   "outputs": [],
   "source": [
    "# import csv file of Baltimore City (as a whole) demographics\n",
    "# first save the data from the csv in variable, \"baltcity_2021\" \n",
    "\n",
    "#baltcity_2021 = \"BaltCity_demographics_2021.csv\""
   ]
  },
  {
   "cell_type": "code",
   "execution_count": null,
   "id": "e4e92ded",
   "metadata": {},
   "outputs": [],
   "source": [
    "# Create dataframes by reading the variable data from the code block above\n",
    "#balt_df2 = pd.read_csv(baltcity_2021)\n",
    "#balt_df2"
   ]
  },
  {
   "cell_type": "code",
   "execution_count": null,
   "id": "cec8fea8",
   "metadata": {},
   "outputs": [],
   "source": [
    "#balt_df = balt_df2.reset_index(drop=True)"
   ]
  },
  {
   "cell_type": "code",
   "execution_count": null,
   "id": "f6f7853f",
   "metadata": {},
   "outputs": [],
   "source": [
    "# merge the dataframes on the common column \"Corridor\"\n",
    "#corridors_balt_merge = pd.concat([corridors_2021_final, balt_df], axis=0)\n",
    "#corridors_balt_merge = corridors_balt_merge.reset_index(drop=True)\n",
    "#corridors_balt_merge.columns"
   ]
  },
  {
   "cell_type": "code",
   "execution_count": null,
   "id": "a397ba07",
   "metadata": {},
   "outputs": [],
   "source": [
    "# import csv file of Maryland demographics\n",
    "# first save the data from the csv in variable, \"MD_2021\" \n",
    "\n",
    "#MD_2021 = \"MD_demographics_2021.csv\""
   ]
  },
  {
   "cell_type": "code",
   "execution_count": null,
   "id": "0b2ee928",
   "metadata": {},
   "outputs": [],
   "source": [
    "# Create dataframe by reading the variable data from the code block above\n",
    "#MD_df = pd.read_csv(MD_2021)\n",
    "#MD_df"
   ]
  },
  {
   "cell_type": "code",
   "execution_count": null,
   "id": "9954dc14",
   "metadata": {},
   "outputs": [],
   "source": [
    "#MD_df = MD_df.reset_index(drop=True)"
   ]
  },
  {
   "cell_type": "code",
   "execution_count": null,
   "id": "83c569ef",
   "metadata": {},
   "outputs": [],
   "source": [
    "# merge the dataframes on the common column \"Corridor\"\n",
    "#Demog = pd.concat([corridors_balt_merge, MD_df], axis=0)\n",
    "#Demog = Demog.reset_index(drop=True)\n",
    "#Demog"
   ]
  },
  {
   "cell_type": "code",
   "execution_count": null,
   "id": "80dc4943",
   "metadata": {},
   "outputs": [],
   "source": []
  },
  {
   "cell_type": "code",
   "execution_count": null,
   "id": "3293c987",
   "metadata": {},
   "outputs": [],
   "source": [
    "# Change names of corridors (replace string using apply() function with lambda)\n",
    "#Demographics_Master = Demog.apply(lambda x: x.replace({\"Baltimore city, Maryland\":\"Baltimore City\", \"Penn Ave\": \"Pennsylvania Avenue\",\n",
    "#                                                       \"Belair Rd\": \"Belair Road\", \"North Ave\": \"North Avenue\"}, regex=True))\n",
    "#Demographics_Master                   "
   ]
  },
  {
   "cell_type": "code",
   "execution_count": null,
   "id": "9d2c822e",
   "metadata": {},
   "outputs": [],
   "source": [
    "#Demographics_Master.to_excel(\"CommCorr_Tableau-2021/CommCorr_Tableau_2021rev.xlsx\")"
   ]
  },
  {
   "cell_type": "code",
   "execution_count": null,
   "id": "c7124bb0",
   "metadata": {},
   "outputs": [],
   "source": []
  },
  {
   "cell_type": "code",
   "execution_count": null,
   "id": "795363d0",
   "metadata": {},
   "outputs": [],
   "source": []
  },
  {
   "cell_type": "code",
   "execution_count": null,
   "id": "5ca9c0a4",
   "metadata": {},
   "outputs": [],
   "source": []
  },
  {
   "cell_type": "code",
   "execution_count": null,
   "id": "b834d377",
   "metadata": {},
   "outputs": [],
   "source": []
  }
 ],
 "metadata": {
  "kernelspec": {
   "display_name": "Python 3",
   "language": "python",
   "name": "python3"
  },
  "language_info": {
   "codemirror_mode": {
    "name": "ipython",
    "version": 3
   },
   "file_extension": ".py",
   "mimetype": "text/x-python",
   "name": "python",
   "nbconvert_exporter": "python",
   "pygments_lexer": "ipython3",
   "version": "3.7.13"
  }
 },
 "nbformat": 4,
 "nbformat_minor": 5
}
